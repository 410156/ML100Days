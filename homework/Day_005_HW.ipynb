{
 "cells": [
  {
   "cell_type": "code",
   "execution_count": 28,
   "metadata": {},
   "outputs": [],
   "source": [
    "import numpy as np\n",
    "english_score = np.array([55,89,76,65,48,70])\n",
    "math_score = np.array([60,85,60,68,np.nan,60])\n",
    "chinese_score = np.array([65,90,82,72,66,77])\n",
    "#第一題\n",
    "english_avg=np.nanmean(english_score)\n",
    "math_avg=np.nanmean(math_score)\n",
    "chinese_avg=np.nanmean(chinese_score)\n",
    "english_max=np.max(english_score)\n",
    "math_max=np.nanmax(math_score)\n",
    "chinese_max=np.nanmax(chinese_score)\n",
    "english_min=np.min(english_score)\n",
    "math_min=np.nanmin(math_score)\n",
    "chinese_min=np.nanmin(chinese_score)\n",
    "english_std=np.nanstd(english_score)\n",
    "math_std=np.nanstd(math_score)\n",
    "chinese_std=np.nanstd(chinese_score)"
   ]
  },
  {
   "cell_type": "code",
   "execution_count": 19,
   "metadata": {},
   "outputs": [],
   "source": [
    "#第二題\n",
    "english_score = np.array([55,89,76,65,48,70])\n",
    "math_score = np.array([60,85,60,68,55,60])\n",
    "chinese_score = np.array([65,90,82,72,66,77])\n",
    "english_avg=np.nanmean(english_score)\n",
    "math_avg=np.nanmean(math_score)\n",
    "chinese_avg=np.nanmean(chinese_score)\n",
    "english_max=np.max(english_score)\n",
    "math_max=np.nanmax(math_score)\n",
    "chinese_max=np.nanmax(chinese_score)\n",
    "english_min=np.min(english_score)\n",
    "math_min=np.nanmin(math_score)\n",
    "chinese_min=np.nanmin(chinese_score)\n",
    "english_std=np.nanstd(english_score)\n",
    "math_std=np.nanstd(math_score)\n",
    "chinese_std=np.nanstd(chinese_score)"
   ]
  },
  {
   "cell_type": "code",
   "execution_count": 27,
   "metadata": {},
   "outputs": [
    {
     "name": "stdout",
     "output_type": "stream",
     "text": [
      "english\n"
     ]
    }
   ],
   "source": [
    "#第三題\n",
    "if np.corrcoef(math_score,chinese_score)[0][1]>np.corrcoef(english_score,chinese_score)[0][1]:\n",
    "    print(\"math\")\n",
    "else:\n",
    "    print(\"english\")"
   ]
  },
  {
   "cell_type": "code",
   "execution_count": null,
   "metadata": {},
   "outputs": [],
   "source": []
  }
 ],
 "metadata": {
  "kernelspec": {
   "display_name": "Python 3",
   "language": "python",
   "name": "python3"
  },
  "language_info": {
   "codemirror_mode": {
    "name": "ipython",
    "version": 3
   },
   "file_extension": ".py",
   "mimetype": "text/x-python",
   "name": "python",
   "nbconvert_exporter": "python",
   "pygments_lexer": "ipython3",
   "version": "3.8.5"
  }
 },
 "nbformat": 4,
 "nbformat_minor": 4
}
